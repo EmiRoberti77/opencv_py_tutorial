{
 "cells": [
  {
   "cell_type": "code",
   "execution_count": null,
   "id": "1673c773-1387-4ea5-9fad-a968ad4de0f3",
   "metadata": {},
   "outputs": [],
   "source": [
    "import cv2\n",
    "import os\n",
    "\n",
    "print(os.getcwd())\n",
    "# Attempt to read the image\n",
    "img = cv2.imread('./DATA/00-puppy.jpg')\n",
    "\n",
    "# Check if the image was loaded\n",
    "if img is None:\n",
    "    print('Error: Image not found. Please check the file path.')\n",
    "else:\n",
    "    print('Info: Image found. Dimensions:', img.shape)"
   ]
  },
  {
   "cell_type": "code",
   "execution_count": null,
   "id": "dc53beb8-a5de-4e9f-9961-6cc187ecfb75",
   "metadata": {},
   "outputs": [],
   "source": [
    "img_rgb = cv2.cvtColor(img, cv2.COLOR_BGR2RGB)\n",
    "plt.imshow(img_rgb)\n",
    "plt.axis('off')\n",
    "plt.show()"
   ]
  }
 ],
 "metadata": {
  "kernelspec": {
   "display_name": "Python [conda env:base] *",
   "language": "python",
   "name": "conda-base-py"
  },
  "language_info": {
   "codemirror_mode": {
    "name": "ipython",
    "version": 3
   },
   "file_extension": ".py",
   "mimetype": "text/x-python",
   "name": "python",
   "nbconvert_exporter": "python",
   "pygments_lexer": "ipython3",
   "version": "3.12.7"
  }
 },
 "nbformat": 4,
 "nbformat_minor": 5
}
