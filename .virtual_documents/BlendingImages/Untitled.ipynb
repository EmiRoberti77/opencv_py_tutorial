import cv2
import matplotlib.pyplot as plt
%matplotlib inline
img1 = cv2.imread('../DATA/dog_backpack.png')
img1 = cv2.cvtColor(img1, cv2.COLOR_BGR2RGB)
img2 = cv2.imread('../DATA/watermark_no_copy.png')
img2 = cv2.cvtColor(img2, cv2.COLOR_BGR2RGB)


plt.imshow(img1)
plt.show()


plt.imshow(img2)
plt.show()


img1.shape


img2.shape


#blending images of the same size
size = 1200, 1200
img1 = cv2.resize(img1, size)
img2 = cv2.resize(img2, size)


plt.imshow(img1)
plt.show()


plt.imshow(img2)
plt.show()


blended = cv2.addWeighted(src1=img1, alpha=0.7, src2=img2, beta=0.2, gamma=0)


plt.imshow(blended)
plt.show()


#overlay small image on top of a larger image ( no blending )
# Numpy reassignment


#reload the image to reset the img references
img1 = cv2.imread('../DATA/dog_backpack.png')
img1 = cv2.cvtColor(img1, cv2.COLOR_BGR2RGB)
img2 = cv2.imread('../DATA/watermark_no_copy.png')
img2 = cv2.cvtColor(img2, cv2.COLOR_BGR2RGB)


img1 = cv2.resize(img1, (600,600))

large_image = img1
small_image = img2

x_offset = 0
y_offset = 0


x_end = x_offset + small_image.shape[1]
y_end = y_offset + small_image.shape[0]


small_image.shape


large_image[y_offset:y_end, x_offset,x_end] = small_image



