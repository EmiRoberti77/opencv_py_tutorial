{
 "cells": [
  {
   "cell_type": "code",
   "execution_count": 8,
   "id": "38a1c3ec-1db9-4053-af83-e246abe066d5",
   "metadata": {},
   "outputs": [
    {
     "name": "stdout",
     "output_type": "stream",
     "text": [
      "starting program\n",
      "/Users/user/code/computer_vision\n",
      "Info: Image found. Dimensions: (1300, 1950, 3)\n"
     ]
    }
   ],
   "source": [
    "import cv2\n",
    "import os\n",
    "import matplotlib.pyplot as plt\n",
    "print('starting program')\n",
    "\n",
    "print(os.getcwd())\n",
    "# Attempt to read the image\n",
    "img = cv2.imread('./DATA/00-puppy.jpg')\n",
    "\n",
    "# Check if the image was loaded\n",
    "if img is None:\n",
    "    print('Error: Image not found. Please check the file path.')\n",
    "else:\n",
    "    print('Info: Image found. Dimensions:', img.shape)"
   ]
  },
  {
   "cell_type": "code",
   "execution_count": null,
   "id": "b3821d4e-d4b5-492d-962e-12a653decb5b",
   "metadata": {},
   "outputs": [],
   "source": [
    "img_rgb = cv2.cvtColor(img, cv2.COLOR_BGR2RGB)\n",
    "plt.imshow(img_rgb)\n",
    "plt.axis('off')\n",
    "plt.show()"
   ]
  }
 ],
 "metadata": {
  "kernelspec": {
   "display_name": "Python [conda env:base] *",
   "language": "python",
   "name": "conda-base-py"
  },
  "language_info": {
   "codemirror_mode": {
    "name": "ipython",
    "version": 3
   },
   "file_extension": ".py",
   "mimetype": "text/x-python",
   "name": "python",
   "nbconvert_exporter": "python",
   "pygments_lexer": "ipython3",
   "version": "3.12.7"
  }
 },
 "nbformat": 4,
 "nbformat_minor": 5
}
